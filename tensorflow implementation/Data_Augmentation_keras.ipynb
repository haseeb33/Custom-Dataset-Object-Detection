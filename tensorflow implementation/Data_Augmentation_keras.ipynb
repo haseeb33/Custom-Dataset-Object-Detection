{
 "cells": [
  {
   "cell_type": "code",
   "execution_count": null,
   "metadata": {
    "colab": {
     "base_uri": "https://localhost:8080/",
     "height": 34
    },
    "colab_type": "code",
    "executionInfo": {
     "elapsed": 686,
     "status": "ok",
     "timestamp": 1600044257147,
     "user": {
      "displayName": "muhammad haseeb Khan",
      "photoUrl": "https://lh3.googleusercontent.com/a-/AOh14GjzsELbgsdeJLNXoOqIh74p05MdJAu55vdUQKXuXg=s64",
      "userId": "07758627364246990718"
     },
     "user_tz": -540
    },
    "id": "xBXnDk-Z3lBi",
    "outputId": "9431bedf-b932-4fe5-fb65-44bd2fc1008b"
   },
   "outputs": [],
   "source": [
    "cd /content/drive/My Drive"
   ]
  },
  {
   "cell_type": "code",
   "execution_count": 35,
   "metadata": {
    "colab": {},
    "colab_type": "code",
    "executionInfo": {
     "elapsed": 1278,
     "status": "ok",
     "timestamp": 1600044438906,
     "user": {
      "displayName": "muhammad haseeb Khan",
      "photoUrl": "https://lh3.googleusercontent.com/a-/AOh14GjzsELbgsdeJLNXoOqIh74p05MdJAu55vdUQKXuXg=s64",
      "userId": "07758627364246990718"
     },
     "user_tz": -540
    },
    "id": "pIR4jPro3wU3"
   },
   "outputs": [],
   "source": [
    "from numpy import expand_dims\n",
    "from keras.preprocessing.image import load_img\n",
    "from keras.preprocessing.image import img_to_array\n",
    "from keras.preprocessing.image import ImageDataGenerator\n",
    "import matplotlib.pyplot as plt\n",
    "import numpy as np"
   ]
  },
  {
   "cell_type": "code",
   "execution_count": 36,
   "metadata": {
    "colab": {},
    "colab_type": "code",
    "executionInfo": {
     "elapsed": 599,
     "status": "ok",
     "timestamp": 1600044440032,
     "user": {
      "displayName": "muhammad haseeb Khan",
      "photoUrl": "https://lh3.googleusercontent.com/a-/AOh14GjzsELbgsdeJLNXoOqIh74p05MdJAu55vdUQKXuXg=s64",
      "userId": "07758627364246990718"
     },
     "user_tz": -540
    },
    "id": "u46KFyAc32Ny"
   },
   "outputs": [],
   "source": [
    "import os\n",
    "import glob\n",
    "import glob\n",
    "main = \"Main/train/\"\n",
    "types = ('*.jpg', '*.jpeg', '*.png', '*.JPEG', '*.JPG') # the tuple of file types\n",
    "files_grabbed = []\n",
    "for files in types:\n",
    "    files_grabbed.extend(glob.glob(main+files))"
   ]
  },
  {
   "cell_type": "code",
   "execution_count": null,
   "metadata": {
    "colab": {},
    "colab_type": "code",
    "id": "SkOM6zi6333x"
   },
   "outputs": [],
   "source": [
    "for image_path in files_grabbed:\n",
    "  # load the image\n",
    "  img = load_img(image_path)\n",
    "  # convert to numpy array\n",
    "  data = img_to_array(img)\n",
    "  # expand dimension to one sample\n",
    "  samples = expand_dims(data, 0)\n",
    "  # create image data augmentation generator\n",
    "  datagen = ImageDataGenerator(brightness_range=[0.2,1.0])\n",
    "  # prepare iterator\n",
    "  it = datagen.flow(samples, batch_size=1)\n",
    "  # generate samples and save\n",
    "  batch = it.next()\n",
    "  # convert to unsigned integers for viewing\n",
    "  image = batch[0].astype('uint8')\n",
    "  path = '/'.join(image_path.split('/')[:-1])+'/'+image_path.split('/')[-1].split('.')[0]+'_aug'+'.'+image_path.split('/')[-1].split('.')[-1]\n",
    "  plt.imsave(path, image)"
   ]
  }
 ],
 "metadata": {
  "colab": {
   "authorship_tag": "ABX9TyNseN0H7wd49TDcEnAaluN9",
   "collapsed_sections": [],
   "mount_file_id": "1lORGYDFXfPis0pVdicQ_z6pg6TrZHo1z",
   "name": "Data_Augmentation_keras.ipynb",
   "provenance": []
  },
  "kernelspec": {
   "display_name": "Python 3",
   "language": "python",
   "name": "python3"
  },
  "language_info": {
   "codemirror_mode": {
    "name": "ipython",
    "version": 3
   },
   "file_extension": ".py",
   "mimetype": "text/x-python",
   "name": "python",
   "nbconvert_exporter": "python",
   "pygments_lexer": "ipython3",
   "version": "3.6.8"
  }
 },
 "nbformat": 4,
 "nbformat_minor": 1
}
